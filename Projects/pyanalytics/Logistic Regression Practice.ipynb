{
 "cells": [
  {
   "cell_type": "code",
   "execution_count": 1,
   "metadata": {},
   "outputs": [
    {
     "ename": "SyntaxError",
     "evalue": "invalid syntax (<ipython-input-1-71669b3c5016>, line 21)",
     "output_type": "error",
     "traceback": [
      "\u001b[1;36m  File \u001b[1;32m\"<ipython-input-1-71669b3c5016>\"\u001b[1;36m, line \u001b[1;32m21\u001b[0m\n\u001b[1;33m    really help in understanding complex machine learning algorithms like neural\u001b[0m\n\u001b[1;37m           ^\u001b[0m\n\u001b[1;31mSyntaxError\u001b[0m\u001b[1;31m:\u001b[0m invalid syntax\n"
     ]
    }
   ],
   "source": [
    "#with constant\n",
    "logit2 = sm.Logit(endog=y_train, exog=sm.add_constant(X_train))\n",
    "logit2.fit().params\n",
    "# fit the model\n",
    "result2 = logit2.fit()\n",
    "#Interpreting the results\n",
    "result2.summary()\n",
    "result2.summary2() #what is the value of AIC - 59.81 here\n",
    "result2.conf_int()\n",
    "result2.pred_table(threshold=.5)\n",
    "X_train.shape\n",
    "X_test.shape\n",
    "#predict test data\n",
    "result2.predict(sm.add_constant(X_test))\n",
    "#new data\n",
    "result2.predict(sm.add_constant(newdata)) #.9 ~ 1; #.00 ~ 0\n",
    "logModel.predict_proba(newdata)\n",
    "logModel.predict(newdata)\n",
    "#Logistic Regression is the base of all classification algorithms.\n",
    "#A good understanding on logistic regression and goodness of fit measures will\n",
    "really help in understanding complex machine learning algorithms like neural\n",
    "networks and SVMs.\n",
    "#One has to be careful while selecting the model, all the goodness of fit\n",
    "measures are calculated on training data. We may have to do cross validation to\n",
    "get an idea on the test error.\n",
    "#Mention 2 applications of Logistic Regression (domain and what can we predict)\n",
    "#end here"
   ]
  },
  {
   "cell_type": "code",
   "execution_count": 2,
   "metadata": {},
   "outputs": [],
   "source": [
    "import pandas as pd\n",
    "import numpy as np\n",
    "import matplotlib.pyplot as plt\n",
    "import seaborn as sns\n",
    "from sklearn.model_selection import train_test_split"
   ]
  },
  {
   "cell_type": "code",
   "execution_count": 3,
   "metadata": {},
   "outputs": [
    {
     "data": {
      "text/plain": [
       "array([[1.423e+01, 1.710e+00, 2.430e+00, ..., 1.040e+00, 3.920e+00,\n",
       "        1.065e+03],\n",
       "       [1.320e+01, 1.780e+00, 2.140e+00, ..., 1.050e+00, 3.400e+00,\n",
       "        1.050e+03],\n",
       "       [1.316e+01, 2.360e+00, 2.670e+00, ..., 1.030e+00, 3.170e+00,\n",
       "        1.185e+03],\n",
       "       ...,\n",
       "       [1.327e+01, 4.280e+00, 2.260e+00, ..., 5.900e-01, 1.560e+00,\n",
       "        8.350e+02],\n",
       "       [1.317e+01, 2.590e+00, 2.370e+00, ..., 6.000e-01, 1.620e+00,\n",
       "        8.400e+02],\n",
       "       [1.413e+01, 4.100e+00, 2.740e+00, ..., 6.100e-01, 1.600e+00,\n",
       "        5.600e+02]])"
      ]
     },
     "execution_count": 3,
     "metadata": {},
     "output_type": "execute_result"
    }
   ],
   "source": [
    "\n",
    "from sklearn.datasets import load_wine\n",
    "wine = load_wine()\n",
    "wine\n",
    "wine.data\n"
   ]
  },
  {
   "cell_type": "code",
   "execution_count": 4,
   "metadata": {},
   "outputs": [
    {
     "data": {
      "text/plain": [
       "array([0, 0, 0, 0, 0, 0, 0, 0, 0, 0, 0, 0, 0, 0, 0, 0, 0, 0, 0, 0, 0, 0,\n",
       "       0, 0, 0, 0, 0, 0, 0, 0, 0, 0, 0, 0, 0, 0, 0, 0, 0, 0, 0, 0, 0, 0,\n",
       "       0, 0, 0, 0, 0, 0, 0, 0, 0, 0, 0, 0, 0, 0, 0, 1, 1, 1, 1, 1, 1, 1,\n",
       "       1, 1, 1, 1, 1, 1, 1, 1, 1, 1, 1, 1, 1, 1, 1, 1, 1, 1, 1, 1, 1, 1,\n",
       "       1, 1, 1, 1, 1, 1, 1, 1, 1, 1, 1, 1, 1, 1, 1, 1, 1, 1, 1, 1, 1, 1,\n",
       "       1, 1, 1, 1, 1, 1, 1, 1, 1, 1, 1, 1, 1, 1, 1, 1, 1, 1, 1, 1, 2, 2,\n",
       "       2, 2, 2, 2, 2, 2, 2, 2, 2, 2, 2, 2, 2, 2, 2, 2, 2, 2, 2, 2, 2, 2,\n",
       "       2, 2, 2, 2, 2, 2, 2, 2, 2, 2, 2, 2, 2, 2, 2, 2, 2, 2, 2, 2, 2, 2,\n",
       "       2, 2])"
      ]
     },
     "execution_count": 4,
     "metadata": {},
     "output_type": "execute_result"
    }
   ],
   "source": [
    "# feature matrix\n",
    "X = wine.data\n",
    "X\n",
    "# target vector\n",
    "y = wine.target\n",
    "y"
   ]
  },
  {
   "cell_type": "code",
   "execution_count": 6,
   "metadata": {},
   "outputs": [
    {
     "data": {
      "text/plain": [
       "array([[1.423e+01, 1.710e+00, 2.430e+00, ..., 1.040e+00, 3.920e+00,\n",
       "        1.065e+03],\n",
       "       [1.320e+01, 1.780e+00, 2.140e+00, ..., 1.050e+00, 3.400e+00,\n",
       "        1.050e+03],\n",
       "       [1.316e+01, 2.360e+00, 2.670e+00, ..., 1.030e+00, 3.170e+00,\n",
       "        1.185e+03],\n",
       "       ...,\n",
       "       [1.327e+01, 4.280e+00, 2.260e+00, ..., 5.900e-01, 1.560e+00,\n",
       "        8.350e+02],\n",
       "       [1.317e+01, 2.590e+00, 2.370e+00, ..., 6.000e-01, 1.620e+00,\n",
       "        8.400e+02],\n",
       "       [1.413e+01, 4.100e+00, 2.740e+00, ..., 6.100e-01, 1.600e+00,\n",
       "        5.600e+02]])"
      ]
     },
     "execution_count": 6,
     "metadata": {},
     "output_type": "execute_result"
    }
   ],
   "source": [
    "X"
   ]
  },
  {
   "cell_type": "code",
   "execution_count": 5,
   "metadata": {},
   "outputs": [
    {
     "data": {
      "text/plain": [
       "['alcohol',\n",
       " 'malic_acid',\n",
       " 'ash',\n",
       " 'alcalinity_of_ash',\n",
       " 'magnesium',\n",
       " 'total_phenols',\n",
       " 'flavanoids',\n",
       " 'nonflavanoid_phenols',\n",
       " 'proanthocyanins',\n",
       " 'color_intensity',\n",
       " 'hue',\n",
       " 'od280/od315_of_diluted_wines',\n",
       " 'proline']"
      ]
     },
     "execution_count": 5,
     "metadata": {},
     "output_type": "execute_result"
    }
   ],
   "source": [
    "labels = wine.feature_names\n",
    "labels\n"
   ]
  },
  {
   "cell_type": "code",
   "execution_count": 6,
   "metadata": {},
   "outputs": [
    {
     "data": {
      "text/html": [
       "<div>\n",
       "<style scoped>\n",
       "    .dataframe tbody tr th:only-of-type {\n",
       "        vertical-align: middle;\n",
       "    }\n",
       "\n",
       "    .dataframe tbody tr th {\n",
       "        vertical-align: top;\n",
       "    }\n",
       "\n",
       "    .dataframe thead th {\n",
       "        text-align: right;\n",
       "    }\n",
       "</style>\n",
       "<table border=\"1\" class=\"dataframe\">\n",
       "  <thead>\n",
       "    <tr style=\"text-align: right;\">\n",
       "      <th></th>\n",
       "      <th>Alcohol</th>\n",
       "      <th>Malicacid</th>\n",
       "      <th>Ash</th>\n",
       "      <th>AlcalinityOfAsh</th>\n",
       "      <th>Magnesium</th>\n",
       "      <th>TotalPhenols</th>\n",
       "      <th>Flavanoids</th>\n",
       "      <th>NonflavanoidPhenols</th>\n",
       "      <th>Proanthocyanins</th>\n",
       "      <th>ColorIntensity</th>\n",
       "      <th>Hue</th>\n",
       "      <th>OD280_OD315</th>\n",
       "      <th>Proline</th>\n",
       "    </tr>\n",
       "  </thead>\n",
       "  <tbody>\n",
       "    <tr>\n",
       "      <th>0</th>\n",
       "      <td>14.23</td>\n",
       "      <td>1.71</td>\n",
       "      <td>2.43</td>\n",
       "      <td>15.6</td>\n",
       "      <td>127.0</td>\n",
       "      <td>2.80</td>\n",
       "      <td>3.06</td>\n",
       "      <td>0.28</td>\n",
       "      <td>2.29</td>\n",
       "      <td>5.64</td>\n",
       "      <td>1.04</td>\n",
       "      <td>3.92</td>\n",
       "      <td>1065.0</td>\n",
       "    </tr>\n",
       "    <tr>\n",
       "      <th>1</th>\n",
       "      <td>13.20</td>\n",
       "      <td>1.78</td>\n",
       "      <td>2.14</td>\n",
       "      <td>11.2</td>\n",
       "      <td>100.0</td>\n",
       "      <td>2.65</td>\n",
       "      <td>2.76</td>\n",
       "      <td>0.26</td>\n",
       "      <td>1.28</td>\n",
       "      <td>4.38</td>\n",
       "      <td>1.05</td>\n",
       "      <td>3.40</td>\n",
       "      <td>1050.0</td>\n",
       "    </tr>\n",
       "    <tr>\n",
       "      <th>2</th>\n",
       "      <td>13.16</td>\n",
       "      <td>2.36</td>\n",
       "      <td>2.67</td>\n",
       "      <td>18.6</td>\n",
       "      <td>101.0</td>\n",
       "      <td>2.80</td>\n",
       "      <td>3.24</td>\n",
       "      <td>0.30</td>\n",
       "      <td>2.81</td>\n",
       "      <td>5.68</td>\n",
       "      <td>1.03</td>\n",
       "      <td>3.17</td>\n",
       "      <td>1185.0</td>\n",
       "    </tr>\n",
       "    <tr>\n",
       "      <th>3</th>\n",
       "      <td>14.37</td>\n",
       "      <td>1.95</td>\n",
       "      <td>2.50</td>\n",
       "      <td>16.8</td>\n",
       "      <td>113.0</td>\n",
       "      <td>3.85</td>\n",
       "      <td>3.49</td>\n",
       "      <td>0.24</td>\n",
       "      <td>2.18</td>\n",
       "      <td>7.80</td>\n",
       "      <td>0.86</td>\n",
       "      <td>3.45</td>\n",
       "      <td>1480.0</td>\n",
       "    </tr>\n",
       "    <tr>\n",
       "      <th>4</th>\n",
       "      <td>13.24</td>\n",
       "      <td>2.59</td>\n",
       "      <td>2.87</td>\n",
       "      <td>21.0</td>\n",
       "      <td>118.0</td>\n",
       "      <td>2.80</td>\n",
       "      <td>2.69</td>\n",
       "      <td>0.39</td>\n",
       "      <td>1.82</td>\n",
       "      <td>4.32</td>\n",
       "      <td>1.04</td>\n",
       "      <td>2.93</td>\n",
       "      <td>735.0</td>\n",
       "    </tr>\n",
       "    <tr>\n",
       "      <th>...</th>\n",
       "      <td>...</td>\n",
       "      <td>...</td>\n",
       "      <td>...</td>\n",
       "      <td>...</td>\n",
       "      <td>...</td>\n",
       "      <td>...</td>\n",
       "      <td>...</td>\n",
       "      <td>...</td>\n",
       "      <td>...</td>\n",
       "      <td>...</td>\n",
       "      <td>...</td>\n",
       "      <td>...</td>\n",
       "      <td>...</td>\n",
       "    </tr>\n",
       "    <tr>\n",
       "      <th>173</th>\n",
       "      <td>13.71</td>\n",
       "      <td>5.65</td>\n",
       "      <td>2.45</td>\n",
       "      <td>20.5</td>\n",
       "      <td>95.0</td>\n",
       "      <td>1.68</td>\n",
       "      <td>0.61</td>\n",
       "      <td>0.52</td>\n",
       "      <td>1.06</td>\n",
       "      <td>7.70</td>\n",
       "      <td>0.64</td>\n",
       "      <td>1.74</td>\n",
       "      <td>740.0</td>\n",
       "    </tr>\n",
       "    <tr>\n",
       "      <th>174</th>\n",
       "      <td>13.40</td>\n",
       "      <td>3.91</td>\n",
       "      <td>2.48</td>\n",
       "      <td>23.0</td>\n",
       "      <td>102.0</td>\n",
       "      <td>1.80</td>\n",
       "      <td>0.75</td>\n",
       "      <td>0.43</td>\n",
       "      <td>1.41</td>\n",
       "      <td>7.30</td>\n",
       "      <td>0.70</td>\n",
       "      <td>1.56</td>\n",
       "      <td>750.0</td>\n",
       "    </tr>\n",
       "    <tr>\n",
       "      <th>175</th>\n",
       "      <td>13.27</td>\n",
       "      <td>4.28</td>\n",
       "      <td>2.26</td>\n",
       "      <td>20.0</td>\n",
       "      <td>120.0</td>\n",
       "      <td>1.59</td>\n",
       "      <td>0.69</td>\n",
       "      <td>0.43</td>\n",
       "      <td>1.35</td>\n",
       "      <td>10.20</td>\n",
       "      <td>0.59</td>\n",
       "      <td>1.56</td>\n",
       "      <td>835.0</td>\n",
       "    </tr>\n",
       "    <tr>\n",
       "      <th>176</th>\n",
       "      <td>13.17</td>\n",
       "      <td>2.59</td>\n",
       "      <td>2.37</td>\n",
       "      <td>20.0</td>\n",
       "      <td>120.0</td>\n",
       "      <td>1.65</td>\n",
       "      <td>0.68</td>\n",
       "      <td>0.53</td>\n",
       "      <td>1.46</td>\n",
       "      <td>9.30</td>\n",
       "      <td>0.60</td>\n",
       "      <td>1.62</td>\n",
       "      <td>840.0</td>\n",
       "    </tr>\n",
       "    <tr>\n",
       "      <th>177</th>\n",
       "      <td>14.13</td>\n",
       "      <td>4.10</td>\n",
       "      <td>2.74</td>\n",
       "      <td>24.5</td>\n",
       "      <td>96.0</td>\n",
       "      <td>2.05</td>\n",
       "      <td>0.76</td>\n",
       "      <td>0.56</td>\n",
       "      <td>1.35</td>\n",
       "      <td>9.20</td>\n",
       "      <td>0.61</td>\n",
       "      <td>1.60</td>\n",
       "      <td>560.0</td>\n",
       "    </tr>\n",
       "  </tbody>\n",
       "</table>\n",
       "<p>178 rows × 13 columns</p>\n",
       "</div>"
      ],
      "text/plain": [
       "     Alcohol  Malicacid   Ash  AlcalinityOfAsh  Magnesium  TotalPhenols  \\\n",
       "0      14.23       1.71  2.43             15.6      127.0          2.80   \n",
       "1      13.20       1.78  2.14             11.2      100.0          2.65   \n",
       "2      13.16       2.36  2.67             18.6      101.0          2.80   \n",
       "3      14.37       1.95  2.50             16.8      113.0          3.85   \n",
       "4      13.24       2.59  2.87             21.0      118.0          2.80   \n",
       "..       ...        ...   ...              ...        ...           ...   \n",
       "173    13.71       5.65  2.45             20.5       95.0          1.68   \n",
       "174    13.40       3.91  2.48             23.0      102.0          1.80   \n",
       "175    13.27       4.28  2.26             20.0      120.0          1.59   \n",
       "176    13.17       2.59  2.37             20.0      120.0          1.65   \n",
       "177    14.13       4.10  2.74             24.5       96.0          2.05   \n",
       "\n",
       "     Flavanoids  NonflavanoidPhenols  Proanthocyanins  ColorIntensity   Hue  \\\n",
       "0          3.06                 0.28             2.29            5.64  1.04   \n",
       "1          2.76                 0.26             1.28            4.38  1.05   \n",
       "2          3.24                 0.30             2.81            5.68  1.03   \n",
       "3          3.49                 0.24             2.18            7.80  0.86   \n",
       "4          2.69                 0.39             1.82            4.32  1.04   \n",
       "..          ...                  ...              ...             ...   ...   \n",
       "173        0.61                 0.52             1.06            7.70  0.64   \n",
       "174        0.75                 0.43             1.41            7.30  0.70   \n",
       "175        0.69                 0.43             1.35           10.20  0.59   \n",
       "176        0.68                 0.53             1.46            9.30  0.60   \n",
       "177        0.76                 0.56             1.35            9.20  0.61   \n",
       "\n",
       "     OD280_OD315  Proline  \n",
       "0           3.92   1065.0  \n",
       "1           3.40   1050.0  \n",
       "2           3.17   1185.0  \n",
       "3           3.45   1480.0  \n",
       "4           2.93    735.0  \n",
       "..           ...      ...  \n",
       "173         1.74    740.0  \n",
       "174         1.56    750.0  \n",
       "175         1.56    835.0  \n",
       "176         1.62    840.0  \n",
       "177         1.60    560.0  \n",
       "\n",
       "[178 rows x 13 columns]"
      ]
     },
     "execution_count": 6,
     "metadata": {},
     "output_type": "execute_result"
    }
   ],
   "source": [
    "#join X & y to dataframe\n",
    "df = pd.DataFrame(wine.data)\n",
    "#name the columns\n",
    "df.columns = ['Alcohol', 'Malicacid', 'Ash', 'AlcalinityOfAsh', 'Magnesium',\n",
    "'TotalPhenols', 'Flavanoids', 'NonflavanoidPhenols', 'Proanthocyanins',\n",
    "'ColorIntensity', 'Hue', 'OD280_OD315', 'Proline']\n",
    "df\n"
   ]
  },
  {
   "cell_type": "code",
   "execution_count": 7,
   "metadata": {},
   "outputs": [
    {
     "data": {
      "text/html": [
       "<div>\n",
       "<style scoped>\n",
       "    .dataframe tbody tr th:only-of-type {\n",
       "        vertical-align: middle;\n",
       "    }\n",
       "\n",
       "    .dataframe tbody tr th {\n",
       "        vertical-align: top;\n",
       "    }\n",
       "\n",
       "    .dataframe thead th {\n",
       "        text-align: right;\n",
       "    }\n",
       "</style>\n",
       "<table border=\"1\" class=\"dataframe\">\n",
       "  <thead>\n",
       "    <tr style=\"text-align: right;\">\n",
       "      <th></th>\n",
       "      <th>Alcohol</th>\n",
       "      <th>Malicacid</th>\n",
       "      <th>Ash</th>\n",
       "      <th>AlcalinityOfAsh</th>\n",
       "      <th>Magnesium</th>\n",
       "      <th>TotalPhenols</th>\n",
       "      <th>Flavanoids</th>\n",
       "      <th>NonflavanoidPhenols</th>\n",
       "      <th>Proanthocyanins</th>\n",
       "      <th>ColorIntensity</th>\n",
       "      <th>Hue</th>\n",
       "      <th>OD280_OD315</th>\n",
       "      <th>Proline</th>\n",
       "      <th>target</th>\n",
       "    </tr>\n",
       "  </thead>\n",
       "  <tbody>\n",
       "    <tr>\n",
       "      <th>0</th>\n",
       "      <td>14.23</td>\n",
       "      <td>1.71</td>\n",
       "      <td>2.43</td>\n",
       "      <td>15.6</td>\n",
       "      <td>127.0</td>\n",
       "      <td>2.80</td>\n",
       "      <td>3.06</td>\n",
       "      <td>0.28</td>\n",
       "      <td>2.29</td>\n",
       "      <td>5.64</td>\n",
       "      <td>1.04</td>\n",
       "      <td>3.92</td>\n",
       "      <td>1065.0</td>\n",
       "      <td>0</td>\n",
       "    </tr>\n",
       "    <tr>\n",
       "      <th>1</th>\n",
       "      <td>13.20</td>\n",
       "      <td>1.78</td>\n",
       "      <td>2.14</td>\n",
       "      <td>11.2</td>\n",
       "      <td>100.0</td>\n",
       "      <td>2.65</td>\n",
       "      <td>2.76</td>\n",
       "      <td>0.26</td>\n",
       "      <td>1.28</td>\n",
       "      <td>4.38</td>\n",
       "      <td>1.05</td>\n",
       "      <td>3.40</td>\n",
       "      <td>1050.0</td>\n",
       "      <td>0</td>\n",
       "    </tr>\n",
       "    <tr>\n",
       "      <th>2</th>\n",
       "      <td>13.16</td>\n",
       "      <td>2.36</td>\n",
       "      <td>2.67</td>\n",
       "      <td>18.6</td>\n",
       "      <td>101.0</td>\n",
       "      <td>2.80</td>\n",
       "      <td>3.24</td>\n",
       "      <td>0.30</td>\n",
       "      <td>2.81</td>\n",
       "      <td>5.68</td>\n",
       "      <td>1.03</td>\n",
       "      <td>3.17</td>\n",
       "      <td>1185.0</td>\n",
       "      <td>0</td>\n",
       "    </tr>\n",
       "    <tr>\n",
       "      <th>3</th>\n",
       "      <td>14.37</td>\n",
       "      <td>1.95</td>\n",
       "      <td>2.50</td>\n",
       "      <td>16.8</td>\n",
       "      <td>113.0</td>\n",
       "      <td>3.85</td>\n",
       "      <td>3.49</td>\n",
       "      <td>0.24</td>\n",
       "      <td>2.18</td>\n",
       "      <td>7.80</td>\n",
       "      <td>0.86</td>\n",
       "      <td>3.45</td>\n",
       "      <td>1480.0</td>\n",
       "      <td>0</td>\n",
       "    </tr>\n",
       "    <tr>\n",
       "      <th>4</th>\n",
       "      <td>13.24</td>\n",
       "      <td>2.59</td>\n",
       "      <td>2.87</td>\n",
       "      <td>21.0</td>\n",
       "      <td>118.0</td>\n",
       "      <td>2.80</td>\n",
       "      <td>2.69</td>\n",
       "      <td>0.39</td>\n",
       "      <td>1.82</td>\n",
       "      <td>4.32</td>\n",
       "      <td>1.04</td>\n",
       "      <td>2.93</td>\n",
       "      <td>735.0</td>\n",
       "      <td>0</td>\n",
       "    </tr>\n",
       "    <tr>\n",
       "      <th>...</th>\n",
       "      <td>...</td>\n",
       "      <td>...</td>\n",
       "      <td>...</td>\n",
       "      <td>...</td>\n",
       "      <td>...</td>\n",
       "      <td>...</td>\n",
       "      <td>...</td>\n",
       "      <td>...</td>\n",
       "      <td>...</td>\n",
       "      <td>...</td>\n",
       "      <td>...</td>\n",
       "      <td>...</td>\n",
       "      <td>...</td>\n",
       "      <td>...</td>\n",
       "    </tr>\n",
       "    <tr>\n",
       "      <th>173</th>\n",
       "      <td>13.71</td>\n",
       "      <td>5.65</td>\n",
       "      <td>2.45</td>\n",
       "      <td>20.5</td>\n",
       "      <td>95.0</td>\n",
       "      <td>1.68</td>\n",
       "      <td>0.61</td>\n",
       "      <td>0.52</td>\n",
       "      <td>1.06</td>\n",
       "      <td>7.70</td>\n",
       "      <td>0.64</td>\n",
       "      <td>1.74</td>\n",
       "      <td>740.0</td>\n",
       "      <td>2</td>\n",
       "    </tr>\n",
       "    <tr>\n",
       "      <th>174</th>\n",
       "      <td>13.40</td>\n",
       "      <td>3.91</td>\n",
       "      <td>2.48</td>\n",
       "      <td>23.0</td>\n",
       "      <td>102.0</td>\n",
       "      <td>1.80</td>\n",
       "      <td>0.75</td>\n",
       "      <td>0.43</td>\n",
       "      <td>1.41</td>\n",
       "      <td>7.30</td>\n",
       "      <td>0.70</td>\n",
       "      <td>1.56</td>\n",
       "      <td>750.0</td>\n",
       "      <td>2</td>\n",
       "    </tr>\n",
       "    <tr>\n",
       "      <th>175</th>\n",
       "      <td>13.27</td>\n",
       "      <td>4.28</td>\n",
       "      <td>2.26</td>\n",
       "      <td>20.0</td>\n",
       "      <td>120.0</td>\n",
       "      <td>1.59</td>\n",
       "      <td>0.69</td>\n",
       "      <td>0.43</td>\n",
       "      <td>1.35</td>\n",
       "      <td>10.20</td>\n",
       "      <td>0.59</td>\n",
       "      <td>1.56</td>\n",
       "      <td>835.0</td>\n",
       "      <td>2</td>\n",
       "    </tr>\n",
       "    <tr>\n",
       "      <th>176</th>\n",
       "      <td>13.17</td>\n",
       "      <td>2.59</td>\n",
       "      <td>2.37</td>\n",
       "      <td>20.0</td>\n",
       "      <td>120.0</td>\n",
       "      <td>1.65</td>\n",
       "      <td>0.68</td>\n",
       "      <td>0.53</td>\n",
       "      <td>1.46</td>\n",
       "      <td>9.30</td>\n",
       "      <td>0.60</td>\n",
       "      <td>1.62</td>\n",
       "      <td>840.0</td>\n",
       "      <td>2</td>\n",
       "    </tr>\n",
       "    <tr>\n",
       "      <th>177</th>\n",
       "      <td>14.13</td>\n",
       "      <td>4.10</td>\n",
       "      <td>2.74</td>\n",
       "      <td>24.5</td>\n",
       "      <td>96.0</td>\n",
       "      <td>2.05</td>\n",
       "      <td>0.76</td>\n",
       "      <td>0.56</td>\n",
       "      <td>1.35</td>\n",
       "      <td>9.20</td>\n",
       "      <td>0.61</td>\n",
       "      <td>1.60</td>\n",
       "      <td>560.0</td>\n",
       "      <td>2</td>\n",
       "    </tr>\n",
       "  </tbody>\n",
       "</table>\n",
       "<p>178 rows × 14 columns</p>\n",
       "</div>"
      ],
      "text/plain": [
       "     Alcohol  Malicacid   Ash  AlcalinityOfAsh  Magnesium  TotalPhenols  \\\n",
       "0      14.23       1.71  2.43             15.6      127.0          2.80   \n",
       "1      13.20       1.78  2.14             11.2      100.0          2.65   \n",
       "2      13.16       2.36  2.67             18.6      101.0          2.80   \n",
       "3      14.37       1.95  2.50             16.8      113.0          3.85   \n",
       "4      13.24       2.59  2.87             21.0      118.0          2.80   \n",
       "..       ...        ...   ...              ...        ...           ...   \n",
       "173    13.71       5.65  2.45             20.5       95.0          1.68   \n",
       "174    13.40       3.91  2.48             23.0      102.0          1.80   \n",
       "175    13.27       4.28  2.26             20.0      120.0          1.59   \n",
       "176    13.17       2.59  2.37             20.0      120.0          1.65   \n",
       "177    14.13       4.10  2.74             24.5       96.0          2.05   \n",
       "\n",
       "     Flavanoids  NonflavanoidPhenols  Proanthocyanins  ColorIntensity   Hue  \\\n",
       "0          3.06                 0.28             2.29            5.64  1.04   \n",
       "1          2.76                 0.26             1.28            4.38  1.05   \n",
       "2          3.24                 0.30             2.81            5.68  1.03   \n",
       "3          3.49                 0.24             2.18            7.80  0.86   \n",
       "4          2.69                 0.39             1.82            4.32  1.04   \n",
       "..          ...                  ...              ...             ...   ...   \n",
       "173        0.61                 0.52             1.06            7.70  0.64   \n",
       "174        0.75                 0.43             1.41            7.30  0.70   \n",
       "175        0.69                 0.43             1.35           10.20  0.59   \n",
       "176        0.68                 0.53             1.46            9.30  0.60   \n",
       "177        0.76                 0.56             1.35            9.20  0.61   \n",
       "\n",
       "     OD280_OD315  Proline  target  \n",
       "0           3.92   1065.0       0  \n",
       "1           3.40   1050.0       0  \n",
       "2           3.17   1185.0       0  \n",
       "3           3.45   1480.0       0  \n",
       "4           2.93    735.0       0  \n",
       "..           ...      ...     ...  \n",
       "173         1.74    740.0       2  \n",
       "174         1.56    750.0       2  \n",
       "175         1.56    835.0       2  \n",
       "176         1.62    840.0       2  \n",
       "177         1.60    560.0       2  \n",
       "\n",
       "[178 rows x 14 columns]"
      ]
     },
     "execution_count": 7,
     "metadata": {},
     "output_type": "execute_result"
    }
   ],
   "source": [
    "df['target'] = pd.Series(wine.target) #add class column as target\n",
    "df\n"
   ]
  },
  {
   "cell_type": "code",
   "execution_count": 8,
   "metadata": {},
   "outputs": [
    {
     "data": {
      "text/plain": [
       "(178, 14)"
      ]
     },
     "execution_count": 8,
     "metadata": {},
     "output_type": "execute_result"
    }
   ],
   "source": [
    "df.shape"
   ]
  },
  {
   "cell_type": "code",
   "execution_count": 9,
   "metadata": {},
   "outputs": [
    {
     "data": {
      "text/plain": [
       "1    71\n",
       "0    59\n",
       "2    48\n",
       "Name: target, dtype: int64"
      ]
     },
     "execution_count": 9,
     "metadata": {},
     "output_type": "execute_result"
    }
   ],
   "source": [
    "df.target.value_counts()"
   ]
  },
  {
   "cell_type": "code",
   "execution_count": 10,
   "metadata": {},
   "outputs": [
    {
     "data": {
      "text/plain": [
       "1    71\n",
       "0    59\n",
       "Name: target, dtype: int64"
      ]
     },
     "execution_count": 10,
     "metadata": {},
     "output_type": "execute_result"
    }
   ],
   "source": [
    "data = df[df.target != 2]\n",
    "data.target.value_counts()"
   ]
  },
  {
   "cell_type": "code",
   "execution_count": 11,
   "metadata": {},
   "outputs": [
    {
     "data": {
      "text/html": [
       "<div>\n",
       "<style scoped>\n",
       "    .dataframe tbody tr th:only-of-type {\n",
       "        vertical-align: middle;\n",
       "    }\n",
       "\n",
       "    .dataframe tbody tr th {\n",
       "        vertical-align: top;\n",
       "    }\n",
       "\n",
       "    .dataframe thead th {\n",
       "        text-align: right;\n",
       "    }\n",
       "</style>\n",
       "<table border=\"1\" class=\"dataframe\">\n",
       "  <thead>\n",
       "    <tr style=\"text-align: right;\">\n",
       "      <th></th>\n",
       "      <th>Alcohol</th>\n",
       "      <th>Magnesium</th>\n",
       "      <th>Proline</th>\n",
       "      <th>target</th>\n",
       "    </tr>\n",
       "  </thead>\n",
       "  <tbody>\n",
       "    <tr>\n",
       "      <th>0</th>\n",
       "      <td>14.23</td>\n",
       "      <td>127.0</td>\n",
       "      <td>1065.0</td>\n",
       "      <td>0</td>\n",
       "    </tr>\n",
       "    <tr>\n",
       "      <th>1</th>\n",
       "      <td>13.20</td>\n",
       "      <td>100.0</td>\n",
       "      <td>1050.0</td>\n",
       "      <td>0</td>\n",
       "    </tr>\n",
       "    <tr>\n",
       "      <th>2</th>\n",
       "      <td>13.16</td>\n",
       "      <td>101.0</td>\n",
       "      <td>1185.0</td>\n",
       "      <td>0</td>\n",
       "    </tr>\n",
       "    <tr>\n",
       "      <th>3</th>\n",
       "      <td>14.37</td>\n",
       "      <td>113.0</td>\n",
       "      <td>1480.0</td>\n",
       "      <td>0</td>\n",
       "    </tr>\n",
       "    <tr>\n",
       "      <th>4</th>\n",
       "      <td>13.24</td>\n",
       "      <td>118.0</td>\n",
       "      <td>735.0</td>\n",
       "      <td>0</td>\n",
       "    </tr>\n",
       "  </tbody>\n",
       "</table>\n",
       "</div>"
      ],
      "text/plain": [
       "   Alcohol  Magnesium  Proline  target\n",
       "0    14.23      127.0   1065.0       0\n",
       "1    13.20      100.0   1050.0       0\n",
       "2    13.16      101.0   1185.0       0\n",
       "3    14.37      113.0   1480.0       0\n",
       "4    13.24      118.0    735.0       0"
      ]
     },
     "execution_count": 11,
     "metadata": {},
     "output_type": "execute_result"
    }
   ],
   "source": [
    "#use only 3 columns for constructing a model\n",
    "data2 = data[['Alcohol', 'Magnesium', 'Proline', 'target']]\n",
    "data2.head()"
   ]
  },
  {
   "cell_type": "code",
   "execution_count": 12,
   "metadata": {},
   "outputs": [
    {
     "data": {
      "text/html": [
       "<div>\n",
       "<style scoped>\n",
       "    .dataframe tbody tr th:only-of-type {\n",
       "        vertical-align: middle;\n",
       "    }\n",
       "\n",
       "    .dataframe tbody tr th {\n",
       "        vertical-align: top;\n",
       "    }\n",
       "\n",
       "    .dataframe thead th {\n",
       "        text-align: right;\n",
       "    }\n",
       "</style>\n",
       "<table border=\"1\" class=\"dataframe\">\n",
       "  <thead>\n",
       "    <tr style=\"text-align: right;\">\n",
       "      <th></th>\n",
       "      <th>Alcohol</th>\n",
       "      <th>Magnesium</th>\n",
       "      <th>Proline</th>\n",
       "      <th>target</th>\n",
       "    </tr>\n",
       "  </thead>\n",
       "  <tbody>\n",
       "    <tr>\n",
       "      <th>count</th>\n",
       "      <td>130.000000</td>\n",
       "      <td>130.000000</td>\n",
       "      <td>130.000000</td>\n",
       "      <td>130.000000</td>\n",
       "    </tr>\n",
       "    <tr>\n",
       "      <th>mean</th>\n",
       "      <td>12.944077</td>\n",
       "      <td>99.900000</td>\n",
       "      <td>790.092308</td>\n",
       "      <td>0.546154</td>\n",
       "    </tr>\n",
       "    <tr>\n",
       "      <th>std</th>\n",
       "      <td>0.888769</td>\n",
       "      <td>15.381379</td>\n",
       "      <td>352.513026</td>\n",
       "      <td>0.499791</td>\n",
       "    </tr>\n",
       "    <tr>\n",
       "      <th>min</th>\n",
       "      <td>11.030000</td>\n",
       "      <td>70.000000</td>\n",
       "      <td>278.000000</td>\n",
       "      <td>0.000000</td>\n",
       "    </tr>\n",
       "    <tr>\n",
       "      <th>25%</th>\n",
       "      <td>12.227500</td>\n",
       "      <td>88.000000</td>\n",
       "      <td>474.000000</td>\n",
       "      <td>0.000000</td>\n",
       "    </tr>\n",
       "    <tr>\n",
       "      <th>50%</th>\n",
       "      <td>13.010000</td>\n",
       "      <td>98.000000</td>\n",
       "      <td>716.000000</td>\n",
       "      <td>1.000000</td>\n",
       "    </tr>\n",
       "    <tr>\n",
       "      <th>75%</th>\n",
       "      <td>13.727500</td>\n",
       "      <td>108.000000</td>\n",
       "      <td>1063.750000</td>\n",
       "      <td>1.000000</td>\n",
       "    </tr>\n",
       "    <tr>\n",
       "      <th>max</th>\n",
       "      <td>14.830000</td>\n",
       "      <td>162.000000</td>\n",
       "      <td>1680.000000</td>\n",
       "      <td>1.000000</td>\n",
       "    </tr>\n",
       "  </tbody>\n",
       "</table>\n",
       "</div>"
      ],
      "text/plain": [
       "          Alcohol   Magnesium      Proline      target\n",
       "count  130.000000  130.000000   130.000000  130.000000\n",
       "mean    12.944077   99.900000   790.092308    0.546154\n",
       "std      0.888769   15.381379   352.513026    0.499791\n",
       "min     11.030000   70.000000   278.000000    0.000000\n",
       "25%     12.227500   88.000000   474.000000    0.000000\n",
       "50%     13.010000   98.000000   716.000000    1.000000\n",
       "75%     13.727500  108.000000  1063.750000    1.000000\n",
       "max     14.830000  162.000000  1680.000000    1.000000"
      ]
     },
     "execution_count": 12,
     "metadata": {},
     "output_type": "execute_result"
    }
   ],
   "source": [
    "data2.describe()"
   ]
  },
  {
   "cell_type": "code",
   "execution_count": 13,
   "metadata": {},
   "outputs": [
    {
     "data": {
      "image/png": "[encoded data removed]",
      "text/plain": [
       "<Figure size 432x288 with 1 Axes>"
      ]
     },
     "metadata": {
      "needs_background": "light"
     },
     "output_type": "display_data"
    }
   ],
   "source": [
    "data2.target.value_counts().plot.bar()\n",
    "plt.show();"
   ]
  },
  {
   "cell_type": "code",
   "execution_count": 14,
   "metadata": {},
   "outputs": [
    {
     "data": {
      "image/png": "[encoded data removed]",
      "text/plain": [
       "<Figure size 432x288 with 1 Axes>"
      ]
     },
     "metadata": {
      "needs_background": "light"
     },
     "output_type": "display_data"
    }
   ],
   "source": [
    "data2.Alcohol.plot.hist()\n",
    "plt.show();"
   ]
  },
  {
   "cell_type": "code",
   "execution_count": 15,
   "metadata": {},
   "outputs": [
    {
     "data": {
      "image/png": "[encoded data removed]",
      "text/plain": [
       "<Figure size 432x288 with 2 Axes>"
      ]
     },
     "metadata": {
      "needs_background": "light"
     },
     "output_type": "display_data"
    }
   ],
   "source": [
    "corr = data2.corr()\n",
    "sns.heatmap(corr, annot=True)\n",
    "plt.show();"
   ]
  },
  {
   "cell_type": "code",
   "execution_count": 16,
   "metadata": {},
   "outputs": [
    {
     "data": {
      "text/html": [
       "<div>\n",
       "<style scoped>\n",
       "    .dataframe tbody tr th:only-of-type {\n",
       "        vertical-align: middle;\n",
       "    }\n",
       "\n",
       "    .dataframe tbody tr th {\n",
       "        vertical-align: top;\n",
       "    }\n",
       "\n",
       "    .dataframe thead th {\n",
       "        text-align: right;\n",
       "    }\n",
       "</style>\n",
       "<table border=\"1\" class=\"dataframe\">\n",
       "  <thead>\n",
       "    <tr style=\"text-align: right;\">\n",
       "      <th></th>\n",
       "      <th>Alcohol</th>\n",
       "      <th>Magnesium</th>\n",
       "      <th>Proline</th>\n",
       "      <th>target</th>\n",
       "    </tr>\n",
       "  </thead>\n",
       "  <tbody>\n",
       "    <tr>\n",
       "      <th>53</th>\n",
       "      <td>13.77</td>\n",
       "      <td>115.0</td>\n",
       "      <td>1375.0</td>\n",
       "      <td>0</td>\n",
       "    </tr>\n",
       "  </tbody>\n",
       "</table>\n",
       "</div>"
      ],
      "text/plain": [
       "    Alcohol  Magnesium  Proline  target\n",
       "53    13.77      115.0   1375.0       0"
      ]
     },
     "execution_count": 16,
     "metadata": {},
     "output_type": "execute_result"
    }
   ],
   "source": [
    "data2.sample()"
   ]
  },
  {
   "cell_type": "code",
   "execution_count": 17,
   "metadata": {},
   "outputs": [
    {
     "data": {
      "text/html": [
       "<div>\n",
       "<style scoped>\n",
       "    .dataframe tbody tr th:only-of-type {\n",
       "        vertical-align: middle;\n",
       "    }\n",
       "\n",
       "    .dataframe tbody tr th {\n",
       "        vertical-align: top;\n",
       "    }\n",
       "\n",
       "    .dataframe thead th {\n",
       "        text-align: right;\n",
       "    }\n",
       "</style>\n",
       "<table border=\"1\" class=\"dataframe\">\n",
       "  <thead>\n",
       "    <tr style=\"text-align: right;\">\n",
       "      <th></th>\n",
       "      <th>Alcohol</th>\n",
       "      <th>Magnesium</th>\n",
       "      <th>Proline</th>\n",
       "    </tr>\n",
       "  </thead>\n",
       "  <tbody>\n",
       "    <tr>\n",
       "      <th>0</th>\n",
       "      <td>12</td>\n",
       "      <td>72</td>\n",
       "      <td>300</td>\n",
       "    </tr>\n",
       "    <tr>\n",
       "      <th>1</th>\n",
       "      <td>13</td>\n",
       "      <td>100</td>\n",
       "      <td>1000</td>\n",
       "    </tr>\n",
       "  </tbody>\n",
       "</table>\n",
       "</div>"
      ],
      "text/plain": [
       "   Alcohol  Magnesium  Proline\n",
       "0       12         72      300\n",
       "1       13        100     1000"
      ]
     },
     "execution_count": 17,
     "metadata": {},
     "output_type": "execute_result"
    }
   ],
   "source": [
    "newdata = pd.DataFrame({'Alcohol':[12,13], 'Magnesium':[72,100], 'Proline':[300,\n",
    "1000]})\n",
    "newdata\n"
   ]
  },
  {
   "cell_type": "code",
   "execution_count": 18,
   "metadata": {},
   "outputs": [
    {
     "data": {
      "text/html": [
       "<div>\n",
       "<style scoped>\n",
       "    .dataframe tbody tr th:only-of-type {\n",
       "        vertical-align: middle;\n",
       "    }\n",
       "\n",
       "    .dataframe tbody tr th {\n",
       "        vertical-align: top;\n",
       "    }\n",
       "\n",
       "    .dataframe thead th {\n",
       "        text-align: right;\n",
       "    }\n",
       "</style>\n",
       "<table border=\"1\" class=\"dataframe\">\n",
       "  <thead>\n",
       "    <tr style=\"text-align: right;\">\n",
       "      <th></th>\n",
       "      <th>Alcohol</th>\n",
       "      <th>Magnesium</th>\n",
       "      <th>Proline</th>\n",
       "      <th>target</th>\n",
       "    </tr>\n",
       "  </thead>\n",
       "  <tbody>\n",
       "    <tr>\n",
       "      <th>0</th>\n",
       "      <td>14.23</td>\n",
       "      <td>127.0</td>\n",
       "      <td>1065.0</td>\n",
       "      <td>0</td>\n",
       "    </tr>\n",
       "    <tr>\n",
       "      <th>1</th>\n",
       "      <td>13.20</td>\n",
       "      <td>100.0</td>\n",
       "      <td>1050.0</td>\n",
       "      <td>0</td>\n",
       "    </tr>\n",
       "    <tr>\n",
       "      <th>2</th>\n",
       "      <td>13.16</td>\n",
       "      <td>101.0</td>\n",
       "      <td>1185.0</td>\n",
       "      <td>0</td>\n",
       "    </tr>\n",
       "    <tr>\n",
       "      <th>3</th>\n",
       "      <td>14.37</td>\n",
       "      <td>113.0</td>\n",
       "      <td>1480.0</td>\n",
       "      <td>0</td>\n",
       "    </tr>\n",
       "    <tr>\n",
       "      <th>4</th>\n",
       "      <td>13.24</td>\n",
       "      <td>118.0</td>\n",
       "      <td>735.0</td>\n",
       "      <td>0</td>\n",
       "    </tr>\n",
       "  </tbody>\n",
       "</table>\n",
       "</div>"
      ],
      "text/plain": [
       "   Alcohol  Magnesium  Proline  target\n",
       "0    14.23      127.0   1065.0       0\n",
       "1    13.20      100.0   1050.0       0\n",
       "2    13.16      101.0   1185.0       0\n",
       "3    14.37      113.0   1480.0       0\n",
       "4    13.24      118.0    735.0       0"
      ]
     },
     "execution_count": 18,
     "metadata": {},
     "output_type": "execute_result"
    }
   ],
   "source": [
    "data2.head()"
   ]
  },
  {
   "cell_type": "code",
   "execution_count": 19,
   "metadata": {},
   "outputs": [
    {
     "data": {
      "text/plain": [
       "array([0, 0, 0, 0, 0, 0, 0, 0, 0, 0, 0, 0, 0, 0, 0, 0, 0, 0, 0, 0, 0, 0,\n",
       "       0, 0, 0, 0, 0, 0, 0, 0, 0, 0, 0, 0, 0, 0, 0, 0, 0, 0, 0, 0, 0, 0,\n",
       "       0, 0, 0, 0, 0, 0, 0, 0, 0, 0, 0, 0, 0, 0, 0, 1, 1, 1, 1, 1, 1, 1,\n",
       "       1, 1, 1, 1, 1, 1, 1, 1, 1, 1, 1, 1, 1, 1, 1, 1, 1, 1, 1, 1, 1, 1,\n",
       "       1, 1, 1, 1, 1, 1, 1, 1, 1, 1, 1, 1, 1, 1, 1, 1, 1, 1, 1, 1, 1, 1,\n",
       "       1, 1, 1, 1, 1, 1, 1, 1, 1, 1, 1, 1, 1, 1, 1, 1, 1, 1, 1, 1])"
      ]
     },
     "execution_count": 19,
     "metadata": {},
     "output_type": "execute_result"
    }
   ],
   "source": [
    "X = data2[['Alcohol', 'Magnesium', 'Proline']].values\n",
    "X\n",
    "y = data2['target'].values\n",
    "y"
   ]
  },
  {
   "cell_type": "code",
   "execution_count": 20,
   "metadata": {},
   "outputs": [
    {
     "data": {
      "text/plain": [
       "array([[  14.23,  127.  , 1065.  ],\n",
       "       [  13.2 ,  100.  , 1050.  ],\n",
       "       [  13.16,  101.  , 1185.  ],\n",
       "       [  14.37,  113.  , 1480.  ],\n",
       "       [  13.24,  118.  ,  735.  ],\n",
       "       [  14.2 ,  112.  , 1450.  ],\n",
       "       [  14.39,   96.  , 1290.  ],\n",
       "       [  14.06,  121.  , 1295.  ],\n",
       "       [  14.83,   97.  , 1045.  ],\n",
       "       [  13.86,   98.  , 1045.  ],\n",
       "       [  14.1 ,  105.  , 1510.  ],\n",
       "       [  14.12,   95.  , 1280.  ],\n",
       "       [  13.75,   89.  , 1320.  ],\n",
       "       [  14.75,   91.  , 1150.  ],\n",
       "       [  14.38,  102.  , 1547.  ],\n",
       "       [  13.63,  112.  , 1310.  ],\n",
       "       [  14.3 ,  120.  , 1280.  ],\n",
       "       [  13.83,  115.  , 1130.  ],\n",
       "       [  14.19,  108.  , 1680.  ],\n",
       "       [  13.64,  116.  ,  845.  ],\n",
       "       [  14.06,  126.  ,  780.  ],\n",
       "       [  12.93,  102.  ,  770.  ],\n",
       "       [  13.71,  101.  , 1035.  ],\n",
       "       [  12.85,   95.  , 1015.  ],\n",
       "       [  13.5 ,   96.  ,  845.  ],\n",
       "       [  13.05,  124.  ,  830.  ],\n",
       "       [  13.39,   93.  , 1195.  ],\n",
       "       [  13.3 ,   94.  , 1285.  ],\n",
       "       [  13.87,  107.  ,  915.  ],\n",
       "       [  14.02,   96.  , 1035.  ],\n",
       "       [  13.73,  101.  , 1285.  ],\n",
       "       [  13.58,  106.  , 1515.  ],\n",
       "       [  13.68,  104.  ,  990.  ],\n",
       "       [  13.76,  132.  , 1235.  ],\n",
       "       [  13.51,  110.  , 1095.  ],\n",
       "       [  13.48,  100.  ,  920.  ],\n",
       "       [  13.28,  110.  ,  880.  ],\n",
       "       [  13.05,   98.  , 1105.  ],\n",
       "       [  13.07,   98.  , 1020.  ],\n",
       "       [  14.22,  128.  ,  760.  ],\n",
       "       [  13.56,  117.  ,  795.  ],\n",
       "       [  13.41,   90.  , 1035.  ],\n",
       "       [  13.88,  101.  , 1095.  ],\n",
       "       [  13.24,  103.  ,  680.  ],\n",
       "       [  13.05,  107.  ,  885.  ],\n",
       "       [  14.21,  111.  , 1080.  ],\n",
       "       [  14.38,  102.  , 1065.  ],\n",
       "       [  13.9 ,  101.  ,  985.  ],\n",
       "       [  14.1 ,  103.  , 1060.  ],\n",
       "       [  13.94,  108.  , 1260.  ],\n",
       "       [  13.05,   92.  , 1150.  ],\n",
       "       [  13.83,   94.  , 1265.  ],\n",
       "       [  13.82,  111.  , 1190.  ],\n",
       "       [  13.77,  115.  , 1375.  ],\n",
       "       [  13.74,  118.  , 1060.  ],\n",
       "       [  13.56,  116.  , 1120.  ],\n",
       "       [  14.22,  118.  ,  970.  ],\n",
       "       [  13.29,  102.  , 1270.  ],\n",
       "       [  13.72,  108.  , 1285.  ],\n",
       "       [  12.37,   88.  ,  520.  ],\n",
       "       [  12.33,  101.  ,  680.  ],\n",
       "       [  12.64,  100.  ,  450.  ],\n",
       "       [  13.67,   94.  ,  630.  ],\n",
       "       [  12.37,   87.  ,  420.  ],\n",
       "       [  12.17,  104.  ,  355.  ],\n",
       "       [  12.37,   98.  ,  678.  ],\n",
       "       [  13.11,   78.  ,  502.  ],\n",
       "       [  12.37,   78.  ,  510.  ],\n",
       "       [  13.34,  110.  ,  750.  ],\n",
       "       [  12.21,  151.  ,  718.  ],\n",
       "       [  12.29,  103.  ,  870.  ],\n",
       "       [  13.86,   86.  ,  410.  ],\n",
       "       [  13.49,   87.  ,  472.  ],\n",
       "       [  12.99,  139.  ,  985.  ],\n",
       "       [  11.96,  101.  ,  886.  ],\n",
       "       [  11.66,   97.  ,  428.  ],\n",
       "       [  13.03,   86.  ,  392.  ],\n",
       "       [  11.84,  112.  ,  500.  ],\n",
       "       [  12.33,  136.  ,  750.  ],\n",
       "       [  12.7 ,  101.  ,  463.  ],\n",
       "       [  12.  ,   86.  ,  278.  ],\n",
       "       [  12.72,   86.  ,  714.  ],\n",
       "       [  12.08,   78.  ,  630.  ],\n",
       "       [  13.05,   85.  ,  515.  ],\n",
       "       [  11.84,   94.  ,  520.  ],\n",
       "       [  12.67,   99.  ,  450.  ],\n",
       "       [  12.16,   90.  ,  495.  ],\n",
       "       [  11.65,   88.  ,  562.  ],\n",
       "       [  11.64,   84.  ,  680.  ],\n",
       "       [  12.08,   70.  ,  625.  ],\n",
       "       [  12.08,   81.  ,  480.  ],\n",
       "       [  12.  ,   86.  ,  450.  ],\n",
       "       [  12.69,   80.  ,  495.  ],\n",
       "       [  12.29,   88.  ,  290.  ],\n",
       "       [  11.62,   98.  ,  345.  ],\n",
       "       [  12.47,  162.  ,  937.  ],\n",
       "       [  11.81,  134.  ,  625.  ],\n",
       "       [  12.29,   85.  ,  428.  ],\n",
       "       [  12.37,   88.  ,  660.  ],\n",
       "       [  12.29,   88.  ,  406.  ],\n",
       "       [  12.08,   97.  ,  710.  ],\n",
       "       [  12.6 ,   88.  ,  562.  ],\n",
       "       [  12.34,   98.  ,  438.  ],\n",
       "       [  11.82,   86.  ,  415.  ],\n",
       "       [  12.51,   85.  ,  672.  ],\n",
       "       [  12.42,   90.  ,  315.  ],\n",
       "       [  12.25,   80.  ,  510.  ],\n",
       "       [  12.72,   84.  ,  488.  ],\n",
       "       [  12.22,   92.  ,  312.  ],\n",
       "       [  11.61,   94.  ,  680.  ],\n",
       "       [  11.46,  107.  ,  562.  ],\n",
       "       [  12.52,   88.  ,  325.  ],\n",
       "       [  11.76,  103.  ,  607.  ],\n",
       "       [  11.41,   88.  ,  434.  ],\n",
       "       [  12.08,   84.  ,  385.  ],\n",
       "       [  11.03,   85.  ,  407.  ],\n",
       "       [  11.82,   86.  ,  495.  ],\n",
       "       [  12.42,  108.  ,  345.  ],\n",
       "       [  12.77,   80.  ,  372.  ],\n",
       "       [  12.  ,   87.  ,  564.  ],\n",
       "       [  11.45,   96.  ,  625.  ],\n",
       "       [  11.56,  119.  ,  465.  ],\n",
       "       [  12.42,  102.  ,  365.  ],\n",
       "       [  13.05,   86.  ,  380.  ],\n",
       "       [  11.87,   82.  ,  380.  ],\n",
       "       [  12.07,   85.  ,  378.  ],\n",
       "       [  12.43,   86.  ,  352.  ],\n",
       "       [  11.79,   92.  ,  466.  ],\n",
       "       [  12.37,   88.  ,  342.  ],\n",
       "       [  12.04,   80.  ,  580.  ]])"
      ]
     },
     "execution_count": 20,
     "metadata": {},
     "output_type": "execute_result"
    }
   ],
   "source": [
    "X"
   ]
  },
  {
   "cell_type": "code",
   "execution_count": 21,
   "metadata": {},
   "outputs": [
    {
     "data": {
      "text/plain": [
       "Index(['Alcohol', 'Magnesium', 'Proline', 'target'], dtype='object')"
      ]
     },
     "execution_count": 21,
     "metadata": {},
     "output_type": "execute_result"
    }
   ],
   "source": [
    "data2.columns\n"
   ]
  },
  {
   "cell_type": "code",
   "execution_count": 22,
   "metadata": {},
   "outputs": [
    {
     "data": {
      "text/plain": [
       "((91, 3), (39, 3))"
      ]
     },
     "execution_count": 22,
     "metadata": {},
     "output_type": "execute_result"
    }
   ],
   "source": [
    "X_train, X_test, y_train, y_test = train_test_split(X, y, test_size=0.3,\n",
    "random_state=1)\n",
    "X_train.shape, X_test.shape"
   ]
  },
  {
   "cell_type": "code",
   "execution_count": 23,
   "metadata": {},
   "outputs": [
    {
     "data": {
      "text/plain": [
       "array([0, 1])"
      ]
     },
     "execution_count": 23,
     "metadata": {},
     "output_type": "execute_result"
    }
   ],
   "source": [
    "import matplotlib.pyplot as plt\n",
    "from sklearn.linear_model import LogisticRegression\n",
    "from sklearn.metrics import classification_report, confusion_matrix\n",
    "import seaborn as sns\n",
    "logModel = LogisticRegression(random_state=0)\n",
    "logModel.fit(X_train, y_train)\n",
    "logModel.classes_"
   ]
  },
  {
   "cell_type": "code",
   "execution_count": 24,
   "metadata": {},
   "outputs": [
    {
     "data": {
      "text/plain": [
       "array([33.56617208])"
      ]
     },
     "execution_count": 24,
     "metadata": {},
     "output_type": "execute_result"
    }
   ],
   "source": [
    "logModel.intercept_"
   ]
  },
  {
   "cell_type": "code",
   "execution_count": 25,
   "metadata": {},
   "outputs": [
    {
     "data": {
      "text/plain": [
       "array([[-2.07637108,  0.03385942, -0.01273012]])"
      ]
     },
     "execution_count": 25,
     "metadata": {},
     "output_type": "execute_result"
    }
   ],
   "source": [
    "logModel.coef_ "
   ]
  },
  {
   "cell_type": "code",
   "execution_count": 26,
   "metadata": {},
   "outputs": [
    {
     "data": {
      "text/plain": [
       "array([[  12.22,   92.  ,  312.  ],\n",
       "       [  12.42,   90.  ,  315.  ],\n",
       "       [  13.48,  100.  ,  920.  ],\n",
       "       [  11.87,   82.  ,  380.  ],\n",
       "       [  13.77,  115.  , 1375.  ],\n",
       "       [  12.21,  151.  ,  718.  ],\n",
       "       [  12.29,   88.  ,  290.  ],\n",
       "       [  14.38,  102.  , 1065.  ],\n",
       "       [  13.74,  118.  , 1060.  ],\n",
       "       [  11.56,  119.  ,  465.  ],\n",
       "       [  13.58,  106.  , 1515.  ],\n",
       "       [  13.88,  101.  , 1095.  ],\n",
       "       [  11.84,  112.  ,  500.  ],\n",
       "       [  11.64,   84.  ,  680.  ],\n",
       "       [  12.52,   88.  ,  325.  ],\n",
       "       [  13.05,   86.  ,  380.  ],\n",
       "       [  13.83,  115.  , 1130.  ],\n",
       "       [  13.72,  108.  , 1285.  ],\n",
       "       [  13.24,  118.  ,  735.  ],\n",
       "       [  12.37,   78.  ,  510.  ],\n",
       "       [  13.56,  116.  , 1120.  ],\n",
       "       [  13.05,  107.  ,  885.  ],\n",
       "       [  13.83,   94.  , 1265.  ],\n",
       "       [  13.76,  132.  , 1235.  ],\n",
       "       [  13.05,   85.  ,  515.  ],\n",
       "       [  12.42,  108.  ,  345.  ],\n",
       "       [  12.08,   78.  ,  630.  ],\n",
       "       [  13.75,   89.  , 1320.  ],\n",
       "       [  13.16,  101.  , 1185.  ],\n",
       "       [  13.67,   94.  ,  630.  ],\n",
       "       [  12.33,  136.  ,  750.  ],\n",
       "       [  11.41,   88.  ,  434.  ],\n",
       "       [  11.82,   86.  ,  495.  ],\n",
       "       [  14.22,  118.  ,  970.  ],\n",
       "       [  12.08,   70.  ,  625.  ],\n",
       "       [  12.37,   88.  ,  520.  ],\n",
       "       [  12.67,   99.  ,  450.  ],\n",
       "       [  12.08,   81.  ,  480.  ],\n",
       "       [  14.21,  111.  , 1080.  ]])"
      ]
     },
     "execution_count": 26,
     "metadata": {},
     "output_type": "execute_result"
    }
   ],
   "source": [
    "X_test\n"
   ]
  },
  {
   "cell_type": "code",
   "execution_count": 27,
   "metadata": {},
   "outputs": [
    {
     "data": {
      "text/plain": [
       "array([[6.51106664e-04, 9.99348893e-01],\n",
       "       [1.09598812e-03, 9.98904012e-01],\n",
       "       [9.39861414e-01, 6.01385863e-02],\n",
       "       [1.04920462e-03, 9.98950795e-01],\n",
       "       [9.99822354e-01, 1.77645534e-04],\n",
       "       [1.49758755e-02, 9.85024124e-01],\n",
       "       [6.51575949e-04, 9.99348424e-01],\n",
       "       [9.98334501e-01, 1.66549898e-03],\n",
       "       [9.88588819e-01, 1.14111810e-02],\n",
       "       [4.64963643e-04, 9.99535036e-01],\n",
       "       [9.99967296e-01, 3.27038816e-05],\n",
       "       [9.96900905e-01, 3.09909523e-03],\n",
       "       [1.64374638e-03, 9.98356254e-01],\n",
       "       [2.69901906e-02, 9.73009809e-01],\n",
       "       [1.63848212e-03, 9.98361518e-01],\n",
       "       [1.05190466e-02, 9.89480953e-01],\n",
       "       [9.96464099e-01, 3.53590075e-03],\n",
       "       [9.99511181e-01, 4.88819125e-04],\n",
       "       [3.28761835e-01, 6.71238165e-01],\n",
       "       [1.74616205e-02, 9.82538380e-01],\n",
       "       [9.92749905e-01, 7.25009500e-03],\n",
       "       [7.63807924e-01, 2.36192076e-01],\n",
       "       [9.99687583e-01, 3.12416982e-04],\n",
       "       [9.98086588e-01, 1.91341241e-03],\n",
       "       [5.77815826e-02, 9.42218417e-01],\n",
       "       [8.73116379e-04, 9.99126884e-01],\n",
       "       [4.29151558e-02, 9.57084844e-01],\n",
       "       [9.99845352e-01, 1.54648138e-04],\n",
       "       [9.95611043e-01, 4.38895728e-03],\n",
       "       [4.14598425e-01, 5.85401575e-01],\n",
       "       [4.64504245e-02, 9.53549576e-01],\n",
       "       [6.55449417e-04, 9.99344551e-01],\n",
       "       [3.56164299e-03, 9.96438357e-01],\n",
       "       [9.86778900e-01, 1.32211002e-02],\n",
       "       [5.22801460e-02, 9.47719854e-01],\n",
       "       [1.41829953e-02, 9.85817005e-01],\n",
       "       [7.52420223e-03, 9.92475798e-01],\n",
       "       [5.96559165e-03, 9.94034408e-01],\n",
       "       [9.97346444e-01, 2.65355589e-03]])"
      ]
     },
     "execution_count": 27,
     "metadata": {},
     "output_type": "execute_result"
    }
   ],
   "source": [
    "logModel.predict_proba(X_test) #prob of 0 & 1 class\n"
   ]
  },
  {
   "cell_type": "code",
   "execution_count": 28,
   "metadata": {},
   "outputs": [
    {
     "data": {
      "text/plain": [
       "array([1, 1, 0, 1, 0, 1, 1, 0, 0, 1, 0, 0, 1, 1, 1, 1, 0, 0, 1, 1, 0, 0,\n",
       "       0, 0, 1, 1, 1, 0, 0, 1, 1, 1, 1, 0, 1, 1, 1, 1, 0])"
      ]
     },
     "execution_count": 28,
     "metadata": {},
     "output_type": "execute_result"
    }
   ],
   "source": [
    "logModel.predict(X_test)\n"
   ]
  },
  {
   "cell_type": "code",
   "execution_count": 29,
   "metadata": {},
   "outputs": [],
   "source": [
    "y_predLG = logModel.predict(X_test)\n"
   ]
  },
  {
   "cell_type": "code",
   "execution_count": 30,
   "metadata": {},
   "outputs": [
    {
     "data": {
      "text/plain": [
       "0.9560439560439561"
      ]
     },
     "execution_count": 30,
     "metadata": {},
     "output_type": "execute_result"
    }
   ],
   "source": [
    "logModel.score(X=X_train, y=y_train)\n"
   ]
  },
  {
   "cell_type": "code",
   "execution_count": 31,
   "metadata": {},
   "outputs": [
    {
     "data": {
      "text/plain": [
       "0.9743589743589743"
      ]
     },
     "execution_count": 31,
     "metadata": {},
     "output_type": "execute_result"
    }
   ],
   "source": [
    "logModel.score(X=X_test, y=y_test)\n"
   ]
  },
  {
   "cell_type": "code",
   "execution_count": 32,
   "metadata": {},
   "outputs": [],
   "source": [
    "cm=confusion_matrix(y_true= y_test, y_pred=y_predLG )\n"
   ]
  },
  {
   "cell_type": "code",
   "execution_count": 33,
   "metadata": {},
   "outputs": [
    {
     "data": {
      "text/plain": [
       "array([[16,  1],\n",
       "       [ 0, 22]])"
      ]
     },
     "execution_count": 33,
     "metadata": {},
     "output_type": "execute_result"
    }
   ],
   "source": [
    "cm"
   ]
  },
  {
   "cell_type": "code",
   "execution_count": 34,
   "metadata": {},
   "outputs": [
    {
     "data": {
      "image/png": "[encoded data removed]",
      "text/plain": [
       "<Figure size 432x288 with 2 Axes>"
      ]
     },
     "metadata": {
      "needs_background": "light"
     },
     "output_type": "display_data"
    }
   ],
   "source": [
    "sns.heatmap(cm, annot=True)\n",
    "plt.show();"
   ]
  },
  {
   "cell_type": "code",
   "execution_count": 35,
   "metadata": {},
   "outputs": [
    {
     "data": {
      "text/plain": [
       "'              precision    recall  f1-score   support\\n\\n           0       1.00      0.94      0.97        17\\n           1       0.96      1.00      0.98        22\\n\\n    accuracy                           0.97        39\\n   macro avg       0.98      0.97      0.97        39\\nweighted avg       0.98      0.97      0.97        39\\n'"
      ]
     },
     "execution_count": 35,
     "metadata": {},
     "output_type": "execute_result"
    }
   ],
   "source": [
    "classification_report(y_test, logModel.predict(X_test))"
   ]
  },
  {
   "cell_type": "code",
   "execution_count": 36,
   "metadata": {},
   "outputs": [
    {
     "data": {
      "text/plain": [
       "array([[6.96629133e-04, 9.99303371e-01],\n",
       "       [9.41079160e-01, 5.89208396e-02]])"
      ]
     },
     "execution_count": 36,
     "metadata": {},
     "output_type": "execute_result"
    }
   ],
   "source": [
    "y_pred2B = logModel.predict(newdata)\n",
    "y_pred2B\n",
    "y_pred2C = logModel.predict_proba(newdata)\n",
    "y_pred2C"
   ]
  },
  {
   "cell_type": "code",
   "execution_count": 37,
   "metadata": {},
   "outputs": [
    {
     "data": {
      "text/plain": [
       "array([1, 0])"
      ]
     },
     "execution_count": 37,
     "metadata": {},
     "output_type": "execute_result"
    }
   ],
   "source": [
    "y_pred2B"
   ]
  },
  {
   "cell_type": "code",
   "execution_count": 38,
   "metadata": {},
   "outputs": [
    {
     "data": {
      "text/plain": [
       "array([[1.000e+00, 1.423e+01, 1.270e+02, 1.065e+03],\n",
       "       [1.000e+00, 1.320e+01, 1.000e+02, 1.050e+03],\n",
       "       [1.000e+00, 1.316e+01, 1.010e+02, 1.185e+03],\n",
       "       [1.000e+00, 1.437e+01, 1.130e+02, 1.480e+03],\n",
       "       [1.000e+00, 1.324e+01, 1.180e+02, 7.350e+02],\n",
       "       [1.000e+00, 1.420e+01, 1.120e+02, 1.450e+03],\n",
       "       [1.000e+00, 1.439e+01, 9.600e+01, 1.290e+03],\n",
       "       [1.000e+00, 1.406e+01, 1.210e+02, 1.295e+03],\n",
       "       [1.000e+00, 1.483e+01, 9.700e+01, 1.045e+03],\n",
       "       [1.000e+00, 1.386e+01, 9.800e+01, 1.045e+03],\n",
       "       [1.000e+00, 1.410e+01, 1.050e+02, 1.510e+03],\n",
       "       [1.000e+00, 1.412e+01, 9.500e+01, 1.280e+03],\n",
       "       [1.000e+00, 1.375e+01, 8.900e+01, 1.320e+03],\n",
       "       [1.000e+00, 1.475e+01, 9.100e+01, 1.150e+03],\n",
       "       [1.000e+00, 1.438e+01, 1.020e+02, 1.547e+03],\n",
       "       [1.000e+00, 1.363e+01, 1.120e+02, 1.310e+03],\n",
       "       [1.000e+00, 1.430e+01, 1.200e+02, 1.280e+03],\n",
       "       [1.000e+00, 1.383e+01, 1.150e+02, 1.130e+03],\n",
       "       [1.000e+00, 1.419e+01, 1.080e+02, 1.680e+03],\n",
       "       [1.000e+00, 1.364e+01, 1.160e+02, 8.450e+02],\n",
       "       [1.000e+00, 1.406e+01, 1.260e+02, 7.800e+02],\n",
       "       [1.000e+00, 1.293e+01, 1.020e+02, 7.700e+02],\n",
       "       [1.000e+00, 1.371e+01, 1.010e+02, 1.035e+03],\n",
       "       [1.000e+00, 1.285e+01, 9.500e+01, 1.015e+03],\n",
       "       [1.000e+00, 1.350e+01, 9.600e+01, 8.450e+02],\n",
       "       [1.000e+00, 1.305e+01, 1.240e+02, 8.300e+02],\n",
       "       [1.000e+00, 1.339e+01, 9.300e+01, 1.195e+03],\n",
       "       [1.000e+00, 1.330e+01, 9.400e+01, 1.285e+03],\n",
       "       [1.000e+00, 1.387e+01, 1.070e+02, 9.150e+02],\n",
       "       [1.000e+00, 1.402e+01, 9.600e+01, 1.035e+03],\n",
       "       [1.000e+00, 1.373e+01, 1.010e+02, 1.285e+03],\n",
       "       [1.000e+00, 1.358e+01, 1.060e+02, 1.515e+03],\n",
       "       [1.000e+00, 1.368e+01, 1.040e+02, 9.900e+02],\n",
       "       [1.000e+00, 1.376e+01, 1.320e+02, 1.235e+03],\n",
       "       [1.000e+00, 1.351e+01, 1.100e+02, 1.095e+03],\n",
       "       [1.000e+00, 1.348e+01, 1.000e+02, 9.200e+02],\n",
       "       [1.000e+00, 1.328e+01, 1.100e+02, 8.800e+02],\n",
       "       [1.000e+00, 1.305e+01, 9.800e+01, 1.105e+03],\n",
       "       [1.000e+00, 1.307e+01, 9.800e+01, 1.020e+03],\n",
       "       [1.000e+00, 1.422e+01, 1.280e+02, 7.600e+02],\n",
       "       [1.000e+00, 1.356e+01, 1.170e+02, 7.950e+02],\n",
       "       [1.000e+00, 1.341e+01, 9.000e+01, 1.035e+03],\n",
       "       [1.000e+00, 1.388e+01, 1.010e+02, 1.095e+03],\n",
       "       [1.000e+00, 1.324e+01, 1.030e+02, 6.800e+02],\n",
       "       [1.000e+00, 1.305e+01, 1.070e+02, 8.850e+02],\n",
       "       [1.000e+00, 1.421e+01, 1.110e+02, 1.080e+03],\n",
       "       [1.000e+00, 1.438e+01, 1.020e+02, 1.065e+03],\n",
       "       [1.000e+00, 1.390e+01, 1.010e+02, 9.850e+02],\n",
       "       [1.000e+00, 1.410e+01, 1.030e+02, 1.060e+03],\n",
       "       [1.000e+00, 1.394e+01, 1.080e+02, 1.260e+03],\n",
       "       [1.000e+00, 1.305e+01, 9.200e+01, 1.150e+03],\n",
       "       [1.000e+00, 1.383e+01, 9.400e+01, 1.265e+03],\n",
       "       [1.000e+00, 1.382e+01, 1.110e+02, 1.190e+03],\n",
       "       [1.000e+00, 1.377e+01, 1.150e+02, 1.375e+03],\n",
       "       [1.000e+00, 1.374e+01, 1.180e+02, 1.060e+03],\n",
       "       [1.000e+00, 1.356e+01, 1.160e+02, 1.120e+03],\n",
       "       [1.000e+00, 1.422e+01, 1.180e+02, 9.700e+02],\n",
       "       [1.000e+00, 1.329e+01, 1.020e+02, 1.270e+03],\n",
       "       [1.000e+00, 1.372e+01, 1.080e+02, 1.285e+03],\n",
       "       [1.000e+00, 1.237e+01, 8.800e+01, 5.200e+02],\n",
       "       [1.000e+00, 1.233e+01, 1.010e+02, 6.800e+02],\n",
       "       [1.000e+00, 1.264e+01, 1.000e+02, 4.500e+02],\n",
       "       [1.000e+00, 1.367e+01, 9.400e+01, 6.300e+02],\n",
       "       [1.000e+00, 1.237e+01, 8.700e+01, 4.200e+02],\n",
       "       [1.000e+00, 1.217e+01, 1.040e+02, 3.550e+02],\n",
       "       [1.000e+00, 1.237e+01, 9.800e+01, 6.780e+02],\n",
       "       [1.000e+00, 1.311e+01, 7.800e+01, 5.020e+02],\n",
       "       [1.000e+00, 1.237e+01, 7.800e+01, 5.100e+02],\n",
       "       [1.000e+00, 1.334e+01, 1.100e+02, 7.500e+02],\n",
       "       [1.000e+00, 1.221e+01, 1.510e+02, 7.180e+02],\n",
       "       [1.000e+00, 1.229e+01, 1.030e+02, 8.700e+02],\n",
       "       [1.000e+00, 1.386e+01, 8.600e+01, 4.100e+02],\n",
       "       [1.000e+00, 1.349e+01, 8.700e+01, 4.720e+02],\n",
       "       [1.000e+00, 1.299e+01, 1.390e+02, 9.850e+02],\n",
       "       [1.000e+00, 1.196e+01, 1.010e+02, 8.860e+02],\n",
       "       [1.000e+00, 1.166e+01, 9.700e+01, 4.280e+02],\n",
       "       [1.000e+00, 1.303e+01, 8.600e+01, 3.920e+02],\n",
       "       [1.000e+00, 1.184e+01, 1.120e+02, 5.000e+02],\n",
       "       [1.000e+00, 1.233e+01, 1.360e+02, 7.500e+02],\n",
       "       [1.000e+00, 1.270e+01, 1.010e+02, 4.630e+02],\n",
       "       [1.000e+00, 1.200e+01, 8.600e+01, 2.780e+02],\n",
       "       [1.000e+00, 1.272e+01, 8.600e+01, 7.140e+02],\n",
       "       [1.000e+00, 1.208e+01, 7.800e+01, 6.300e+02],\n",
       "       [1.000e+00, 1.305e+01, 8.500e+01, 5.150e+02],\n",
       "       [1.000e+00, 1.184e+01, 9.400e+01, 5.200e+02],\n",
       "       [1.000e+00, 1.267e+01, 9.900e+01, 4.500e+02],\n",
       "       [1.000e+00, 1.216e+01, 9.000e+01, 4.950e+02],\n",
       "       [1.000e+00, 1.165e+01, 8.800e+01, 5.620e+02],\n",
       "       [1.000e+00, 1.164e+01, 8.400e+01, 6.800e+02],\n",
       "       [1.000e+00, 1.208e+01, 7.000e+01, 6.250e+02],\n",
       "       [1.000e+00, 1.208e+01, 8.100e+01, 4.800e+02],\n",
       "       [1.000e+00, 1.200e+01, 8.600e+01, 4.500e+02],\n",
       "       [1.000e+00, 1.269e+01, 8.000e+01, 4.950e+02],\n",
       "       [1.000e+00, 1.229e+01, 8.800e+01, 2.900e+02],\n",
       "       [1.000e+00, 1.162e+01, 9.800e+01, 3.450e+02],\n",
       "       [1.000e+00, 1.247e+01, 1.620e+02, 9.370e+02],\n",
       "       [1.000e+00, 1.181e+01, 1.340e+02, 6.250e+02],\n",
       "       [1.000e+00, 1.229e+01, 8.500e+01, 4.280e+02],\n",
       "       [1.000e+00, 1.237e+01, 8.800e+01, 6.600e+02],\n",
       "       [1.000e+00, 1.229e+01, 8.800e+01, 4.060e+02],\n",
       "       [1.000e+00, 1.208e+01, 9.700e+01, 7.100e+02],\n",
       "       [1.000e+00, 1.260e+01, 8.800e+01, 5.620e+02],\n",
       "       [1.000e+00, 1.234e+01, 9.800e+01, 4.380e+02],\n",
       "       [1.000e+00, 1.182e+01, 8.600e+01, 4.150e+02],\n",
       "       [1.000e+00, 1.251e+01, 8.500e+01, 6.720e+02],\n",
       "       [1.000e+00, 1.242e+01, 9.000e+01, 3.150e+02],\n",
       "       [1.000e+00, 1.225e+01, 8.000e+01, 5.100e+02],\n",
       "       [1.000e+00, 1.272e+01, 8.400e+01, 4.880e+02],\n",
       "       [1.000e+00, 1.222e+01, 9.200e+01, 3.120e+02],\n",
       "       [1.000e+00, 1.161e+01, 9.400e+01, 6.800e+02],\n",
       "       [1.000e+00, 1.146e+01, 1.070e+02, 5.620e+02],\n",
       "       [1.000e+00, 1.252e+01, 8.800e+01, 3.250e+02],\n",
       "       [1.000e+00, 1.176e+01, 1.030e+02, 6.070e+02],\n",
       "       [1.000e+00, 1.141e+01, 8.800e+01, 4.340e+02],\n",
       "       [1.000e+00, 1.208e+01, 8.400e+01, 3.850e+02],\n",
       "       [1.000e+00, 1.103e+01, 8.500e+01, 4.070e+02],\n",
       "       [1.000e+00, 1.182e+01, 8.600e+01, 4.950e+02],\n",
       "       [1.000e+00, 1.242e+01, 1.080e+02, 3.450e+02],\n",
       "       [1.000e+00, 1.277e+01, 8.000e+01, 3.720e+02],\n",
       "       [1.000e+00, 1.200e+01, 8.700e+01, 5.640e+02],\n",
       "       [1.000e+00, 1.145e+01, 9.600e+01, 6.250e+02],\n",
       "       [1.000e+00, 1.156e+01, 1.190e+02, 4.650e+02],\n",
       "       [1.000e+00, 1.242e+01, 1.020e+02, 3.650e+02],\n",
       "       [1.000e+00, 1.305e+01, 8.600e+01, 3.800e+02],\n",
       "       [1.000e+00, 1.187e+01, 8.200e+01, 3.800e+02],\n",
       "       [1.000e+00, 1.207e+01, 8.500e+01, 3.780e+02],\n",
       "       [1.000e+00, 1.243e+01, 8.600e+01, 3.520e+02],\n",
       "       [1.000e+00, 1.179e+01, 9.200e+01, 4.660e+02],\n",
       "       [1.000e+00, 1.237e+01, 8.800e+01, 3.420e+02],\n",
       "       [1.000e+00, 1.204e+01, 8.000e+01, 5.800e+02]])"
      ]
     },
     "execution_count": 38,
     "metadata": {},
     "output_type": "execute_result"
    }
   ],
   "source": [
    "import statsmodels.api as sm\n",
    "X_train = sm.add_constant(X)\n",
    "X_train"
   ]
  },
  {
   "cell_type": "code",
   "execution_count": 39,
   "metadata": {},
   "outputs": [
    {
     "data": {
      "text/plain": [
       "(130, 4)"
      ]
     },
     "execution_count": 39,
     "metadata": {},
     "output_type": "execute_result"
    }
   ],
   "source": [
    "X_train.shape"
   ]
  },
  {
   "cell_type": "code",
   "execution_count": 40,
   "metadata": {},
   "outputs": [
    {
     "data": {
      "text/plain": [
       "(91,)"
      ]
     },
     "execution_count": 40,
     "metadata": {},
     "output_type": "execute_result"
    }
   ],
   "source": [
    "y_train.shape"
   ]
  },
  {
   "cell_type": "code",
   "execution_count": 41,
   "metadata": {},
   "outputs": [],
   "source": [
    "y_train = y_train.reshape(-1,1)"
   ]
  },
  {
   "cell_type": "code",
   "execution_count": 42,
   "metadata": {},
   "outputs": [
    {
     "data": {
      "text/plain": [
       "(91, 1)"
      ]
     },
     "execution_count": 42,
     "metadata": {},
     "output_type": "execute_result"
    }
   ],
   "source": [
    "y_train.shape"
   ]
  },
  {
   "cell_type": "code",
   "execution_count": null,
   "metadata": {},
   "outputs": [],
   "source": []
  }
 ],
 "metadata": {
  "kernelspec": {
   "display_name": "Python 3",
   "language": "python",
   "name": "python3"
  },
  "language_info": {
   "codemirror_mode": {
    "name": "ipython",
    "version": 3
   },
   "file_extension": ".py",
   "mimetype": "text/x-python",
   "name": "python",
   "nbconvert_exporter": "python",
   "pygments_lexer": "ipython3",
   "version": "3.8.3"
  }
 },
 "nbformat": 4,
 "nbformat_minor": 4
}
